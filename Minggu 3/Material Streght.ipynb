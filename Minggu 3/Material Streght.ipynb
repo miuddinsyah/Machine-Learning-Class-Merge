{
  "cells": [
    {
      "cell_type": "markdown",
      "metadata": {},
      "source": [
        "# Material Strength"
      ]
    },
    {
      "cell_type": "markdown",
      "metadata": {},
      "source": [
        "Tugas Machine Learning Minggu 3 Azmi Taqiuddin Syah"
      ]
    },
    {
      "cell_type": "code",
      "execution_count": 10,
      "metadata": {
        "id": "gKWrHmu1Dacu"
      },
      "outputs": [],
      "source": [
        "import pandas as pd\n",
        "import numpy as np\n",
        "from sklearn.model_selection import train_test_split\n",
        "from sklearn.tree import DecisionTreeRegressor\n",
        "from sklearn.neighbors import KNeighborsRegressor\n",
        "from sklearn.linear_model import LinearRegression\n",
        "from sklearn.preprocessing import PolynomialFeatures\n",
        "from sklearn.metrics import r2_score\n",
        "from sklearn.pipeline import make_pipeline\n",
        "from sklearn.preprocessing import LabelEncoder"
      ]
    },
    {
      "cell_type": "code",
      "execution_count": 2,
      "metadata": {
        "colab": {
          "base_uri": "https://localhost:8080/",
          "height": 360
        },
        "id": "Z10v0K6hDnOo",
        "outputId": "97957f67-a7c0-4f72-9b3a-6ee3af130956"
      },
      "outputs": [],
      "source": [
        "# Baca dataset\n",
        "data = pd.read_csv('MaterialStrength.csv')\n",
        "\n",
        "# Pisahkan fitur (X) dan target (y)\n",
        "X = data.drop('target_feature', axis=1)\n",
        "y = data['target_feature']\n"
      ]
    },
    {
      "cell_type": "code",
      "execution_count": 9,
      "metadata": {},
      "outputs": [
        {
          "name": "stdout",
          "output_type": "stream",
          "text": [
            "x1     float64\n",
            "x2     float64\n",
            "x3     float64\n",
            "x4     float64\n",
            "x5     float64\n",
            "x6     float64\n",
            "x7     float64\n",
            "x8       int64\n",
            "x9     float64\n",
            "x10    float64\n",
            "x11    float64\n",
            "x12      int64\n",
            "x13    float64\n",
            "x14     object\n",
            "x15     object\n",
            "dtype: object\n"
          ]
        }
      ],
      "source": [
        "print(X.dtypes)"
      ]
    },
    {
      "cell_type": "code",
      "execution_count": 12,
      "metadata": {},
      "outputs": [],
      "source": [
        "le = LabelEncoder()\n",
        "X['x14'] = le.fit_transform(X['x14'])\n",
        "X['x15'] = le.fit_transform(X['x15'])"
      ]
    },
    {
      "cell_type": "code",
      "execution_count": 13,
      "metadata": {},
      "outputs": [],
      "source": [
        "# Bagi data menjadi train dan test set\n",
        "X_train, X_test, y_train, y_test = train_test_split(X, y, test_size=0.2, random_state=42)\n"
      ]
    },
    {
      "cell_type": "code",
      "execution_count": 14,
      "metadata": {},
      "outputs": [],
      "source": [
        "from sklearn.metrics import mean_squared_error"
      ]
    },
    {
      "cell_type": "code",
      "execution_count": 15,
      "metadata": {},
      "outputs": [],
      "source": [
        "# Fungsi untuk menghitung metrik evaluasi\n",
        "def evaluate_model(y_true, y_pred, model_name):\n",
        "    mse = mean_squared_error(y_true, y_pred)\n",
        "    rmse = np.sqrt(mse)\n",
        "    r2 = r2_score(y_true, y_pred)\n",
        "    print(f\"{model_name} - MSE: {mse:.4f}, RMSE: {rmse:.4f}, R-squared: {r2:.4f}\")\n"
      ]
    },
    {
      "cell_type": "code",
      "execution_count": 16,
      "metadata": {},
      "outputs": [
        {
          "name": "stdout",
          "output_type": "stream",
          "text": [
            "Decision Tree - MSE: 20.9544, RMSE: 4.5776, R-squared: 0.9187\n"
          ]
        }
      ],
      "source": [
        "# 1. Decision Tree\n",
        "dt_model = DecisionTreeRegressor(random_state=42)\n",
        "dt_model.fit(X_train, y_train)\n",
        "dt_pred = dt_model.predict(X_test)\n",
        "evaluate_model(y_test, dt_pred, \"Decision Tree\")\n"
      ]
    },
    {
      "cell_type": "code",
      "execution_count": 17,
      "metadata": {},
      "outputs": [
        {
          "name": "stdout",
          "output_type": "stream",
          "text": [
            "k-NN - MSE: 72.7098, RMSE: 8.5270, R-squared: 0.7178\n"
          ]
        }
      ],
      "source": [
        "# 2. k-NN (dengan k=5)\n",
        "knn_model = KNeighborsRegressor(n_neighbors=5)\n",
        "knn_model.fit(X_train, y_train)\n",
        "knn_pred = knn_model.predict(X_test)\n",
        "evaluate_model(y_test, knn_pred, \"k-NN\")\n"
      ]
    },
    {
      "cell_type": "code",
      "execution_count": 18,
      "metadata": {},
      "outputs": [
        {
          "name": "stdout",
          "output_type": "stream",
          "text": [
            "Linear Regression - MSE: 75.4669, RMSE: 8.6872, R-squared: 0.7071\n"
          ]
        }
      ],
      "source": [
        "# 3. Regresi Linear Biasa\n",
        "lr_model = LinearRegression()\n",
        "lr_model.fit(X_train, y_train)\n",
        "lr_pred = lr_model.predict(X_test)\n",
        "evaluate_model(y_test, lr_pred, \"Linear Regression\")\n"
      ]
    },
    {
      "cell_type": "code",
      "execution_count": 19,
      "metadata": {},
      "outputs": [
        {
          "name": "stdout",
          "output_type": "stream",
          "text": [
            "Polynomial Regression - MSE: 34.7549, RMSE: 5.8953, R-squared: 0.8651\n"
          ]
        }
      ],
      "source": [
        "# 4. Regresi Linear dengan Basis Fungsi (Polynomial degree=2)\n",
        "poly_model = make_pipeline(PolynomialFeatures(degree=2), LinearRegression())\n",
        "poly_model.fit(X_train, y_train)\n",
        "poly_pred = poly_model.predict(X_test)\n",
        "evaluate_model(y_test, poly_pred, \"Polynomial Regression\")"
      ]
    }
  ],
  "metadata": {
    "colab": {
      "authorship_tag": "ABX9TyPNCKRHLTPEbdd9YY0JA+n/",
      "include_colab_link": true,
      "provenance": []
    },
    "kernelspec": {
      "display_name": "tf",
      "language": "python",
      "name": "python3"
    },
    "language_info": {
      "codemirror_mode": {
        "name": "ipython",
        "version": 3
      },
      "file_extension": ".py",
      "mimetype": "text/x-python",
      "name": "python",
      "nbconvert_exporter": "python",
      "pygments_lexer": "ipython3",
      "version": "3.9.19"
    }
  },
  "nbformat": 4,
  "nbformat_minor": 0
}
